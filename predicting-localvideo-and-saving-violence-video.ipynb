{
 "cells": [
  {
   "cell_type": "code",
   "execution_count": 1,
   "metadata": {},
   "outputs": [],
   "source": [
    "from __future__ import absolute_import\n",
    "from __future__  import division\n",
    "from __future__ import print_function\n",
    "import tensorflow as tf\n",
    "import numpy as np\n",
    "from skimage.io import imread\n",
    "from skimage.transform import resize\n",
    "import cv2\n",
    "import numpy as np\n",
    "import pandas as pd\n",
    "import matplotlib.pyplot as plt"
   ]
  },
  {
   "cell_type": "code",
   "execution_count": 2,
   "metadata": {},
   "outputs": [],
   "source": [
    "import os"
   ]
  },
  {
   "cell_type": "code",
   "execution_count": 3,
   "metadata": {},
   "outputs": [],
   "source": [
    "from mamonfight22 import *"
   ]
  },
  {
   "cell_type": "code",
   "execution_count": 4,
   "metadata": {},
   "outputs": [],
   "source": [
    "model = mamon_videoFightModel2(tf, 'D:/Real-Time-Violence-Detection-in-Video-/mamonbest947oscombo.hdfs')"
   ]
  },
  {
   "cell_type": "code",
   "execution_count": 5,
   "metadata": {},
   "outputs": [
    {
     "name": "stdout",
     "output_type": "stream",
     "text": [
      "1/1 [==============================] - 4s 4s/step\n",
      "Violance detected here ...\n",
      "1/1 [==============================] - 2s 2s/step\n",
      "Violance detected here ...\n",
      "1/1 [==============================] - 4s 4s/step\n",
      "Violance detected here ...\n",
      "1/1 [==============================] - 4s 4s/step\n",
      "Violance detected here ...\n",
      "1/1 [==============================] - 4s 4s/step\n",
      "Violance detected here ...\n",
      "1/1 [==============================] - 4s 4s/step\n",
      "Violance detected here ...\n",
      "1/1 [==============================] - 4s 4s/step\n",
      "1/1 [==============================] - 4s 4s/step\n",
      "Violance detected here ...\n",
      "1/1 [==============================] - 4s 4s/step\n",
      "Violance detected here ...\n",
      "1/1 [==============================] - 4s 4s/step\n",
      "Violance detected here ...\n",
      "1/1 [==============================] - 4s 4s/step\n",
      "Violance detected here ...\n",
      "1/1 [==============================] - 4s 4s/step\n",
      "Violance detected here ...\n",
      "1/1 [==============================] - 4s 4s/step\n",
      "1/1 [==============================] - 4s 4s/step\n",
      "Violance detected here ...\n",
      "1/1 [==============================] - 4s 4s/step\n",
      "Violance detected here ...\n",
      "1/1 [==============================] - 4s 4s/step\n",
      "Violance detected here ...\n",
      "1/1 [==============================] - 3s 3s/step\n",
      "Violance detected here ...\n",
      "1/1 [==============================] - 3s 3s/step\n",
      "Violance detected here ...\n",
      "1/1 [==============================] - 2s 2s/step\n",
      "Violance detected here ...\n",
      "1/1 [==============================] - 3s 3s/step\n",
      "Violance detected here ...\n",
      "1/1 [==============================] - 2s 2s/step\n",
      "Violance detected here ...\n"
     ]
    }
   ],
   "source": [
    "cap = cv2.VideoCapture('hdfight.mp4')\n",
    "i = 0\n",
    "frames = np.zeros((30, 160, 160, 3), dtype=float)\n",
    "old = []\n",
    "j = 0\n",
    "while(True):\n",
    "    ret, frame = cap.read()\n",
    "  \n",
    "    # describe the type of font\n",
    "    # to be used.\n",
    "    font = cv2.FONT_HERSHEY_SIMPLEX\n",
    "    if i > 29:\n",
    "        ysdatav2 = np.zeros((1, 30, 160, 160, 3), dtype=float)\n",
    "        ysdatav2[0][:][:] = frames\n",
    "        predaction = pred_fight(model,ysdatav2)\n",
    "        if predaction[0] == True:\n",
    "            cv2.putText(frame, \n",
    "                'Violance Deacted  ... Violence .. violence', \n",
    "                (50, 50), \n",
    "                font, 3, \n",
    "                (0, 255, 255), \n",
    "                2, \n",
    "                cv2.LINE_4)\n",
    "            cv2.imshow('video', frame)\n",
    "            print('Violance detected here ...')\n",
    "            fourcc = cv2.VideoWriter_fourcc(*'XVID')\n",
    "            vio = cv2.VideoWriter(\"D:/Real-Time-Violence-Detection-in-Video-/op/output\"+str(j)+\".avi\", fourcc, 10.0, (fwidth,fheight))\n",
    "            #vio = cv2.VideoWriter(\"./videos/output-\"+str(j)+\".mp4\", cv2.VideoWriter_fourcc(*'mp4v'), 10, (300, 400))\n",
    "            for frameinss in old:\n",
    "                vio.write(frameinss)\n",
    "            vio.release()\n",
    "        i = 0\n",
    "        j += 1\n",
    "        frames = np.zeros((30, 160, 160, 3), dtype=float)\n",
    "        old = []\n",
    "    else:\n",
    "        frm = resize(frame,(160,160,3))\n",
    "        old.append(frame)\n",
    "        fshape = frame.shape\n",
    "        fheight = fshape[0]\n",
    "        fwidth = fshape[1]\n",
    "        frm = np.expand_dims(frm,axis=0)\n",
    "        if(np.max(frm)>1):\n",
    "            frm = frm/255.0\n",
    "        frames[i][:] = frm\n",
    "        \n",
    "        i+=1\n",
    "    \n",
    "    cv2.imshow('video', frame)\n",
    "  \n",
    "\n",
    "    if cv2.waitKey(1) & 0xFF == ord('q'):\n",
    "        break\n",
    "\n",
    "cap.release()\n",
    "\n",
    "cv2.destroyAllWindows()"
   ]
  },
  {
   "cell_type": "code",
   "execution_count": 6,
   "metadata": {},
   "outputs": [
    {
     "name": "stdout",
     "output_type": "stream",
     "text": [
      "started at  1712818492886\n",
      "(30, 160, 160, 3)\n",
      "time processing  5304\n"
     ]
    }
   ],
   "source": [
    "import time\n",
    "millis = int(round(time.time() * 1000))\n",
    "print(\"started at \" , millis)\n",
    "vid = video_mamonreader(cv2,'D:/Real-Time-Violence-Detection-in-Video-/hospital.mp4')\n",
    "millis2 = int(round(time.time() * 1000))\n",
    "print(\"time processing \" , millis2 - millis)"
   ]
  },
  {
   "cell_type": "code",
   "execution_count": 7,
   "metadata": {},
   "outputs": [],
   "source": [
    "datav = np.zeros((1, 30, 160, 160, 3), dtype=float)"
   ]
  },
  {
   "cell_type": "code",
   "execution_count": 8,
   "metadata": {},
   "outputs": [],
   "source": [
    "datav[0][:][:] = vid"
   ]
  },
  {
   "cell_type": "code",
   "execution_count": 9,
   "metadata": {},
   "outputs": [
    {
     "name": "stdout",
     "output_type": "stream",
     "text": [
      "started at  1712818508078\n",
      "1/1 [==============================] - 3s 3s/step\n",
      "(True, 0.98410726)\n",
      "time processing  2812\n"
     ]
    }
   ],
   "source": [
    "millis = int(round(time.time() * 1000))\n",
    "print(\"started at \" , millis)\n",
    "print(pred_fight(model,datav))\n",
    "millis2 = int(round(time.time() * 1000))\n",
    "print(\"time processing \" , millis2 - millis)"
   ]
  },
  {
   "cell_type": "code",
   "execution_count": 11,
   "metadata": {},
   "outputs": [],
   "source": [
    "def video_mamonreader(cv2,filename):\n",
    "    frames = np.zeros((30, 160, 160, 3), dtype=float)\n",
    "    i=0\n",
    "    print(frames.shape)\n",
    "    vc = cv2.VideoCapture(filename)\n",
    "    if vc.isOpened():\n",
    "        rval , frame = vc.read()\n",
    "    else:\n",
    "        rval = False\n",
    "    frm = resize(frame,(160,160,3))\n",
    "    frm = np.expand_dims(frm,axis=0)\n",
    "    if(np.max(frm)>1):\n",
    "        frm = frm/255.0\n",
    "    frames[i][:] = frm\n",
    "    i +=1\n",
    "    print(\"reading video\")\n",
    "    while i < 30:\n",
    "        rval, frame = vc.read()\n",
    "        frm = resize(frame,(160,160,3))\n",
    "        frm = np.expand_dims(frm,axis=0)\n",
    "        if(np.max(frm)>1):\n",
    "            frm = frm/255.0\n",
    "        frames[i][:] = frm\n",
    "        i +=1\n",
    "    return frames"
   ]
  },
  {
   "cell_type": "code",
   "execution_count": 12,
   "metadata": {},
   "outputs": [
    {
     "name": "stdout",
     "output_type": "stream",
     "text": [
      "(30, 160, 160, 3)\n",
      "reading video\n"
     ]
    }
   ],
   "source": [
    "novid = video_mamonreader(cv2,'D:/Real-Time-Violence-Detection-in-Video-/golsss.mp4')"
   ]
  },
  {
   "cell_type": "code",
   "execution_count": 13,
   "metadata": {},
   "outputs": [],
   "source": [
    "novid_resized = np.zeros((40, 170, 170, 3), dtype=novid.dtype)\n",
    "novid_resized[:30, 5:165, 5:165, :] = novid"
   ]
  },
  {
   "cell_type": "code",
   "execution_count": 25,
   "metadata": {},
   "outputs": [
    {
     "ename": "ValueError",
     "evalue": "could not broadcast input array from shape (40,170,170,3) into shape (30,160,160,3)",
     "output_type": "error",
     "traceback": [
      "\u001b[1;31m---------------------------------------------------------------------------\u001b[0m",
      "\u001b[1;31mValueError\u001b[0m                                Traceback (most recent call last)",
      "Cell \u001b[1;32mIn[25], line 2\u001b[0m\n\u001b[0;32m      1\u001b[0m nodatav \u001b[38;5;241m=\u001b[39m np\u001b[38;5;241m.\u001b[39mzeros((\u001b[38;5;241m1\u001b[39m, \u001b[38;5;241m30\u001b[39m, \u001b[38;5;241m160\u001b[39m, \u001b[38;5;241m160\u001b[39m, \u001b[38;5;241m3\u001b[39m), dtype\u001b[38;5;241m=\u001b[39m\u001b[38;5;28mfloat\u001b[39m)\n\u001b[1;32m----> 2\u001b[0m \u001b[43mnodatav\u001b[49m\u001b[43m[\u001b[49m\u001b[38;5;241;43m0\u001b[39;49m\u001b[43m]\u001b[49m\u001b[43m[\u001b[49m\u001b[43m:\u001b[49m\u001b[43m]\u001b[49m\u001b[43m[\u001b[49m\u001b[43m:\u001b[49m\u001b[43m]\u001b[49m \u001b[38;5;241m=\u001b[39m novid_resized\n",
      "\u001b[1;31mValueError\u001b[0m: could not broadcast input array from shape (40,170,170,3) into shape (30,160,160,3)"
     ]
    }
   ],
   "source": [
    "nodatav = np.zeros((1, 30, 160, 160, 3), dtype=float)\n",
    "nodatav[0][:][:] = novid_resized"
   ]
  },
  {
   "cell_type": "code",
   "execution_count": 17,
   "metadata": {},
   "outputs": [
    {
     "ename": "NameError",
     "evalue": "name 'nodatav' is not defined",
     "output_type": "error",
     "traceback": [
      "\u001b[1;31m---------------------------------------------------------------------------\u001b[0m",
      "\u001b[1;31mNameError\u001b[0m                                 Traceback (most recent call last)",
      "Cell \u001b[1;32mIn[17], line 1\u001b[0m\n\u001b[1;32m----> 1\u001b[0m pred_fight(model,\u001b[43mnodatav\u001b[49m)\n",
      "\u001b[1;31mNameError\u001b[0m: name 'nodatav' is not defined"
     ]
    }
   ],
   "source": [
    "pred_fight(model,nodatav)"
   ]
  },
  {
   "cell_type": "code",
   "execution_count": null,
   "metadata": {},
   "outputs": [],
   "source": []
  },
  {
   "cell_type": "code",
   "execution_count": 14,
   "metadata": {},
   "outputs": [
    {
     "name": "stdout",
     "output_type": "stream",
     "text": [
      "(30, 160, 160, 3)\n",
      "reading video\n"
     ]
    }
   ],
   "source": [
    "ysvid2 = video_mamonreader(cv2,'hdfight.mp4')"
   ]
  },
  {
   "cell_type": "code",
   "execution_count": 15,
   "metadata": {},
   "outputs": [],
   "source": [
    "ysdatav2 = np.zeros((1, 30, 160, 160, 3), dtype=float)"
   ]
  },
  {
   "cell_type": "code",
   "execution_count": 16,
   "metadata": {},
   "outputs": [],
   "source": [
    "ysdatav2[0][:][:] = ysvid2"
   ]
  },
  {
   "cell_type": "code",
   "execution_count": 17,
   "metadata": {},
   "outputs": [
    {
     "name": "stdout",
     "output_type": "stream",
     "text": [
      "started at  1712818556698\n",
      "1/1 [==============================] - 3s 3s/step\n",
      "(True, 0.98410726)\n",
      "time processing  2726\n"
     ]
    }
   ],
   "source": [
    "import time\n",
    "\n",
    "millis = int(round(time.time() * 1000))\n",
    "print(\"started at \" , millis)\n",
    "predaction = pred_fight(model,ysdatav2)\n",
    "print(predaction)\n",
    "millis2 = int(round(time.time() * 1000))\n",
    "print(\"time processing \" , millis2 - millis)\n"
   ]
  },
  {
   "cell_type": "code",
   "execution_count": 18,
   "metadata": {},
   "outputs": [
    {
     "name": "stdout",
     "output_type": "stream",
     "text": [
      "violence\n"
     ]
    }
   ],
   "source": [
    "if predaction[0] == True:\n",
    "    print('violence')"
   ]
  },
  {
   "cell_type": "code",
   "execution_count": 19,
   "metadata": {},
   "outputs": [
    {
     "name": "stdout",
     "output_type": "stream",
     "text": [
      "(30, 160, 160, 3)\n",
      "reading video\n"
     ]
    }
   ],
   "source": [
    "novid3 = video_mamonreader(cv2,'golsss.mp4')"
   ]
  },
  {
   "cell_type": "code",
   "execution_count": 20,
   "metadata": {},
   "outputs": [],
   "source": [
    "nodatav3 = np.zeros((1, 30, 160, 160, 3), dtype=float)\n",
    "nodatav3[0][:][:] = novid3"
   ]
  },
  {
   "cell_type": "code",
   "execution_count": 21,
   "metadata": {},
   "outputs": [
    {
     "name": "stdout",
     "output_type": "stream",
     "text": [
      "started at  1712818572917\n",
      "1/1 [==============================] - 3s 3s/step\n",
      "(False, 0.00967562)\n",
      "time processing  2601\n"
     ]
    }
   ],
   "source": [
    "millis = int(round(time.time() * 1000))\n",
    "print(\"started at \" , millis)\n",
    "print(pred_fight(model,nodatav3))\n",
    "millis2 = int(round(time.time() * 1000))\n",
    "print(\"time processing \" , millis2 - millis)\n"
   ]
  },
  {
   "cell_type": "code",
   "execution_count": 22,
   "metadata": {},
   "outputs": [
    {
     "name": "stdout",
     "output_type": "stream",
     "text": [
      "(30, 160, 160, 3)\n",
      "reading video\n"
     ]
    }
   ],
   "source": [
    "\n",
    "novid4 = video_mamonreader(cv2,'D:/Real-Time-Violence-Detection-in-Video-/hospital.mp4')"
   ]
  },
  {
   "cell_type": "code",
   "execution_count": 23,
   "metadata": {},
   "outputs": [],
   "source": [
    "nodatav4 = np.zeros((1, 30, 160, 160, 3), dtype=float)\n",
    "nodatav4[0][:][:] = novid4"
   ]
  },
  {
   "cell_type": "code",
   "execution_count": 24,
   "metadata": {},
   "outputs": [
    {
     "name": "stdout",
     "output_type": "stream",
     "text": [
      "started at  1712818586077\n",
      "1/1 [==============================] - 2s 2s/step\n",
      "(True, 0.98410726)\n",
      "time processing  2499\n"
     ]
    }
   ],
   "source": [
    "millis = int(round(time.time() * 1000))\n",
    "print(\"started at \" , millis)\n",
    "print(pred_fight(model,nodatav4))\n",
    "millis2 = int(round(time.time() * 1000))\n",
    "print(\"time processing \" , millis2 - millis)"
   ]
  },
  {
   "cell_type": "code",
   "execution_count": null,
   "metadata": {},
   "outputs": [],
   "source": []
  }
 ],
 "metadata": {
  "kernelspec": {
   "display_name": "Python 3",
   "language": "python",
   "name": "python3"
  },
  "language_info": {
   "codemirror_mode": {
    "name": "ipython",
    "version": 3
   },
   "file_extension": ".py",
   "mimetype": "text/x-python",
   "name": "python",
   "nbconvert_exporter": "python",
   "pygments_lexer": "ipython3",
   "version": "3.11.4"
  }
 },
 "nbformat": 4,
 "nbformat_minor": 2
}
